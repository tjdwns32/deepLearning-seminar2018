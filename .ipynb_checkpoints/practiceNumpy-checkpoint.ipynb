{
 "cells": [
  {
   "cell_type": "code",
   "execution_count": 1,
   "metadata": {},
   "outputs": [
    {
     "name": "stdout",
     "output_type": "stream",
     "text": [
      "<class 'numpy.ndarray'>\n",
      "(3,)\n",
      "1 2 3\n",
      "[5 2 3]\n",
      "\n",
      "(2, 3)\n",
      "1 2 4\n"
     ]
    }
   ],
   "source": [
    "import numpy as np\n",
    "\n",
    "a=np.array([1,2,3])#인수는 list형식으로\n",
    "print(type(a))\n",
    "print(a.shape)\n",
    "print(a[0],a[1],a[2])\n",
    "a[0]=5\n",
    "print(a)\n",
    "print()\n",
    "b=np.array([[1,2,3],[4,5,6]])\n",
    "print(b.shape)\n",
    "print(b[0,0],b[0,1],b[1,0])"
   ]
  },
  {
   "cell_type": "code",
   "execution_count": 25,
   "metadata": {
    "scrolled": true
   },
   "outputs": [
    {
     "name": "stdout",
     "output_type": "stream",
     "text": [
      "[[0. 0.]\n",
      " [0. 0.]]\n",
      "<class 'numpy.float64'>\n",
      "\n",
      "[[1. 1.]]\n",
      "\n",
      "[[7.2 7.2]\n",
      " [7.2 7.2]]\n",
      "\n",
      "[[1. 0. 0.]\n",
      " [0. 1. 0.]\n",
      " [0. 0. 1.]]\n",
      "\n",
      "[[0. 9.]\n",
      " [8. 2.]]\n"
     ]
    }
   ],
   "source": [
    "import numpy as np\n",
    "\n",
    "a=np.zeros((2,2))#0으로 채워진 2*2 배열\n",
    "print(a)\n",
    "print()\n",
    "b=np.ones((1,2))#1로 채워진 1*2 배열\n",
    "#b=np.ones((2,))#결과가 조금 다름\n",
    "print(b)\n",
    "print()\n",
    "c=np.full((2,2),7.2)#인수는 튜플, 수\n",
    "print(c)\n",
    "print()\n",
    "d=np.eye(3)#2*2단위행렬(대각선이 1) 배열생성\n",
    "print(d)\n",
    "print()\n",
    "e=np.random.random((2,2))#난수로 채워진2*2\n",
    "e=e*10\n",
    "e=e//1\n",
    "print(e)\n"
   ]
  },
  {
   "cell_type": "code",
   "execution_count": 3,
   "metadata": {},
   "outputs": [
    {
     "name": "stdout",
     "output_type": "stream",
     "text": [
      "[[ 1  2  3  4]\n",
      " [ 5  6  7  8]\n",
      " [ 9 10 11 12]]\n",
      "\n",
      "<class 'numpy.ndarray'>\n",
      "\n",
      "2\n",
      "\n",
      "77\n",
      "\n",
      "[5 6 7 8] (4,)\n",
      "\n",
      "[[5 6 7 8]] (1, 4)\n",
      "\n",
      "[77  6 10] (3,)\n",
      "\n",
      "[[77]\n",
      " [ 6]\n",
      " [10]] (3, 1)\n"
     ]
    }
   ],
   "source": [
    "import numpy as np\n",
    "\n",
    "a=np.array([[1,2,3,4], [5,6,7,8], [9,10,11,12]])\n",
    "print(a)\n",
    "print()\n",
    "b=a[:2,1:3] #a배열 잘라서 2*2배열 생성\n",
    "print(type(b))\n",
    "print()\n",
    "print(a[0,1])\n",
    "b[0,0]=77 #a에도 적용됨\n",
    "print()\n",
    "print(a[0,1])\n",
    "print()\n",
    "r1=a[1,:] #1차원\n",
    "print(r1,r1.shape)\n",
    "print()\n",
    "r2=a[1:2,:] #2차원\n",
    "print(r2,r2.shape)\n",
    "print()\n",
    "c1=a[:,1] #1차원\n",
    "print(c1,c1.shape)\n",
    "print()\n",
    "c2=a[:,1:2] #2차원\n",
    "print(c2,c2.shape)"
   ]
  },
  {
   "cell_type": "code",
   "execution_count": 23,
   "metadata": {},
   "outputs": [
    {
     "name": "stdout",
     "output_type": "stream",
     "text": [
      "[[1 2]\n",
      " [3 4]\n",
      " [5 6]]\n",
      "[1 6 3]\n",
      "[1 6 3]\n",
      "[2 2]\n",
      "[2 2]\n"
     ]
    }
   ],
   "source": [
    "import numpy as np\n",
    "\n",
    "a=np.array([[1,2],[3,4],[5,6]])\n",
    "\n",
    "print(a[[0,2,1],[0,1,0]])#정수배열 인덱싱, 0,2,1 번째 배열의 0,1,0번째 원소\n",
    "print(np.array([a[0,0],a[2,1],a[1,0]]))#위와 같은 의미\n",
    "#print([a[0,0],a[2,1],a[1,0]])#결과는 같지만 자료형이 list\n",
    "print(a[[0,0],[1,1]])#일부만 인덱싱 가능\n",
    "print(np.array([a[0,1],a[0,1]]))"
   ]
  },
  {
   "cell_type": "code",
   "execution_count": 41,
   "metadata": {},
   "outputs": [
    {
     "name": "stdout",
     "output_type": "stream",
     "text": [
      "[[ 1  2  3]\n",
      " [ 4  5  6]\n",
      " [ 7  8  9]\n",
      " [10 11 12]]\n",
      "\n",
      "[ 1  6  7 11]\n",
      "\n",
      "[[11  2  3]\n",
      " [14  5  6]\n",
      " [17  8  9]\n",
      " [20 11 12]]\n"
     ]
    }
   ],
   "source": [
    "import numpy as np\n",
    "\n",
    "a=np.array([[1,2,3],[4,5,6],[7,8,9],[10,11,12]])\n",
    "print(a)\n",
    "print()\n",
    "b=np.array([0,2,0,1])\n",
    "print(a[np.arange(4),b])#b의 값들을 인덱스로 사용, arange함수\n",
    "#print(a[np.arange(4),[0,2,0,1]])#리스트도 인수로 줄 수 있음\n",
    "print()\n",
    "a[np.arange(4),0]+=10#배열이나 리스트가 아닌 인덱스를 주면 해당 인덱스에 모두 적용\n",
    "print(a)"
   ]
  },
  {
   "cell_type": "code",
   "execution_count": 3,
   "metadata": {},
   "outputs": [
    {
     "name": "stdout",
     "output_type": "stream",
     "text": [
      "[[False False]\n",
      " [ True  True]\n",
      " [ True  True]]\n",
      "\n",
      "[3 4 5 6]\n",
      "\n",
      "[3 4 5 6]\n"
     ]
    }
   ],
   "source": [
    "import numpy as np\n",
    "\n",
    "a=np.array([[1,2],[3,4],[5,6]])\n",
    "bool_idx=(a>2)#a배열에서 2보다 큰 요소들을 찾아서 같은 shape의 t/f배열을 반환\n",
    "print(bool_idx)\n",
    "print()\n",
    "print(a[bool_idx])#true인 원소를 1차원 배열로 반환\n",
    "print()\n",
    "print(a[a>2])"
   ]
  },
  {
   "cell_type": "code",
   "execution_count": 9,
   "metadata": {},
   "outputs": [
    {
     "name": "stdout",
     "output_type": "stream",
     "text": [
      "int32\n",
      "\n",
      "[1. 2.]\n",
      "float64\n",
      "\n",
      "[1 2]\n",
      "int64\n"
     ]
    }
   ],
   "source": [
    "#자료형은 numpy에서 알아서 파악하지만, 지정할 수 있다.\n",
    "import numpy as np\n",
    "\n",
    "a=np.array([1,2])\n",
    "print(a.dtype)\n",
    "print()\n",
    "a=np.array([1.0,2.0])\n",
    "print(a)\n",
    "print(a.dtype)\n",
    "print()\n",
    "a=np.array([1.0,2.0],dtype=np.int64)\n",
    "print(a)\n",
    "print(a.dtype)"
   ]
  },
  {
   "cell_type": "code",
   "execution_count": 15,
   "metadata": {},
   "outputs": [
    {
     "name": "stdout",
     "output_type": "stream",
     "text": [
      "[[ 6.  8.]\n",
      " [10. 12.]]\n",
      "[[ 6.  8.]\n",
      " [10. 12.]]\n",
      "\n",
      "[[-4. -4.]\n",
      " [-4. -4.]]\n",
      "[[-4. -4.]\n",
      " [-4. -4.]]\n",
      "\n",
      "[[ 5. 12.]\n",
      " [21. 32.]]\n",
      "[[ 5. 12.]\n",
      " [21. 32.]]\n",
      "\n",
      "[[0.2        0.33333333]\n",
      " [0.42857143 0.5       ]]\n",
      "[[0.2        0.33333333]\n",
      " [0.42857143 0.5       ]]\n",
      "\n",
      "[[1.         1.41421356]\n",
      " [1.73205081 2.        ]]\n"
     ]
    }
   ],
   "source": [
    "#배열연산\n",
    "import numpy as np\n",
    "\n",
    "x=np.array([[1,2],[3,4]],dtype=np.float64)\n",
    "y=np.array([[5,6],[7,8]],dtype=np.float64)\n",
    "print(x+y)\n",
    "print(np.add(x,y))\n",
    "print()\n",
    "print(x-y)\n",
    "print(np.subtract(x,y))\n",
    "print()\n",
    "print(x*y)#행렬곱이 아닌 요소별 곱\n",
    "print(np.multiply(x,y))\n",
    "print()\n",
    "print(x/y)\n",
    "print(np.divide(x,y))\n",
    "print()\n",
    "print(np.sqrt(x))"
   ]
  },
  {
   "cell_type": "code",
   "execution_count": 18,
   "metadata": {},
   "outputs": [
    {
     "name": "stdout",
     "output_type": "stream",
     "text": [
      "219\n",
      "219\n",
      "\n",
      "[29 67]\n",
      "[29 67]\n",
      "\n",
      "[[19 22]\n",
      " [43 50]]\n",
      "[[19 22]\n",
      " [43 50]]\n"
     ]
    }
   ],
   "source": [
    "import numpy as np\n",
    "\n",
    "x=np.array([[1,2],[3,4]])\n",
    "y=np.array([[5,6],[7,8]])\n",
    "\n",
    "v=np.array([9,10])\n",
    "w=np.array([11,12])\n",
    "#벡터의 내적 v[0]*w[0]+v[1]*w[1]\n",
    "print(v.dot(w))\n",
    "print(np.dot(v,w))\n",
    "print()\n",
    "#[x[0,0]*v[0]+x[0,1]*v[0]=29, x[1,0]*v[0]+x[1,1]*v[1]=67]\n",
    "print(x.dot(v))\n",
    "print(np.dot(x,v))\n",
    "print()\n",
    "#행렬의 곱\n",
    "print(x.dot(y))\n",
    "print(np.dot(x,y))"
   ]
  },
  {
   "cell_type": "code",
   "execution_count": 20,
   "metadata": {},
   "outputs": [
    {
     "name": "stdout",
     "output_type": "stream",
     "text": [
      "10\n",
      "[4 6]\n",
      "[3 7]\n"
     ]
    }
   ],
   "source": [
    "import numpy as np\n",
    "\n",
    "x=np.array([[1,2],[3,4]])\n",
    "\n",
    "print(np.sum(x))\n",
    "print(np.sum(x,axis=0))#컬럼 별 합\n",
    "print(np.sum(x,axis=1))#로우 별 합"
   ]
  },
  {
   "cell_type": "code",
   "execution_count": 22,
   "metadata": {},
   "outputs": [
    {
     "name": "stdout",
     "output_type": "stream",
     "text": [
      "[[1 2]\n",
      " [3 4]]\n",
      "[[1 3]\n",
      " [2 4]]\n",
      "\n",
      "[1 2 3]\n",
      "[1 2 3]\n"
     ]
    }
   ],
   "source": [
    "import numpy as np\n",
    "\n",
    "x=np.array([[1,2],[3,4]])\n",
    "print(x)\n",
    "print(x.T)#전치행렬\n",
    "print()\n",
    "v=np.array([1,2,3])\n",
    "print(v)\n",
    "print(v.T)#1차원이면 변화없음"
   ]
  },
  {
   "cell_type": "code",
   "execution_count": 25,
   "metadata": {},
   "outputs": [
    {
     "name": "stdout",
     "output_type": "stream",
     "text": [
      "[[ 11 102  13]\n",
      " [ 14 105  16]\n",
      " [ 17 108  19]\n",
      " [ 20 111  22]]\n"
     ]
    }
   ],
   "source": [
    "#브로드캐스트\n",
    "import numpy as np\n",
    "\n",
    "x=np.array([[1,2,3],[4,5,6],[7,8,9],[10,11,12]])\n",
    "v=np.array([10,100,10])\n",
    "y=np.empty_like(x)#x와 같은 shape의 빈 배열을 만들어 줌\n",
    "\n",
    "for i in range(4):\n",
    "    y[i,:]=x[i,:]+v\n",
    "    \n",
    "print(y)"
   ]
  },
  {
   "cell_type": "code",
   "execution_count": null,
   "metadata": {},
   "outputs": [],
   "source": []
  }
 ],
 "metadata": {
  "kernelspec": {
   "display_name": "Python 3",
   "language": "python",
   "name": "python3"
  },
  "language_info": {
   "codemirror_mode": {
    "name": "ipython",
    "version": 3
   },
   "file_extension": ".py",
   "mimetype": "text/x-python",
   "name": "python",
   "nbconvert_exporter": "python",
   "pygments_lexer": "ipython3",
   "version": "3.6.4"
  }
 },
 "nbformat": 4,
 "nbformat_minor": 2
}
