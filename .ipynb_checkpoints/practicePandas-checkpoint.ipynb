{
 "cells": [
  {
   "cell_type": "code",
   "execution_count": 1,
   "metadata": {},
   "outputs": [],
   "source": [
    "import pandas as pd\n",
    "import numpy as np\n",
    "import matplotlib.pyplot as plt"
   ]
  },
  {
   "cell_type": "code",
   "execution_count": 2,
   "metadata": {},
   "outputs": [
    {
     "name": "stdout",
     "output_type": "stream",
     "text": [
      "0    1.0\n",
      "1    3.0\n",
      "2    5.0\n",
      "3    NaN\n",
      "4    6.0\n",
      "5    8.0\n",
      "dtype: float64\n"
     ]
    }
   ],
   "source": [
    "s=pd.Series([1,3,5,np.nan,6,8])\n",
    "print(s)"
   ]
  },
  {
   "cell_type": "code",
   "execution_count": 5,
   "metadata": {},
   "outputs": [
    {
     "name": "stdout",
     "output_type": "stream",
     "text": [
      "DatetimeIndex(['2018-07-03', '2018-07-04', '2018-07-05', '2018-07-06',\n",
      "               '2018-07-07', '2018-07-08', '2018-07-09'],\n",
      "              dtype='datetime64[ns]', freq='D')\n"
     ]
    }
   ],
   "source": [
    "dates=pd.date_range('20180703',periods=7)#20180703으로부터 일주일\n",
    "print(dates)"
   ]
  },
  {
   "cell_type": "code",
   "execution_count": 18,
   "metadata": {},
   "outputs": [
    {
     "name": "stdout",
     "output_type": "stream",
     "text": [
      "                   d         o         g\n",
      "2018-07-03 -1.246092 -1.268503  1.095800\n",
      "2018-07-04 -0.842231  0.531090  0.906464\n",
      "2018-07-05  0.185067 -0.938695 -0.213364\n",
      "2018-07-06 -0.412540  1.951485  0.937610\n",
      "2018-07-07  0.915378  0.144795  0.168038\n",
      "2018-07-08  0.177666 -0.358112  0.934674\n",
      "2018-07-09 -1.236918  1.435972  0.516952\n"
     ]
    }
   ],
   "source": [
    "df=pd.DataFrame(np.random.randn(7,3),index=dates,columns=list('dog'))#테이블 형태의 데이터프레임 생성\n",
    "print(df)"
   ]
  },
  {
   "cell_type": "code",
   "execution_count": 15,
   "metadata": {},
   "outputs": [
    {
     "name": "stdout",
     "output_type": "stream",
     "text": [
      "     A          B    C  D      E    F\n",
      "0  1.0 2018-07-03  1.0  3   test  foo\n",
      "1  1.0 2018-07-03  1.0  3  train  foo\n",
      "2  1.0 2018-07-03  1.0  3   test  foo\n",
      "3  1.0 2018-07-03  1.0  3  train  foo\n",
      "A           float64\n",
      "B    datetime64[ns]\n",
      "C           float32\n",
      "D             int32\n",
      "E          category\n",
      "F            object\n",
      "dtype: object\n"
     ]
    }
   ],
   "source": [
    "df2=pd.DataFrame({'A':1.,\n",
    "                  'B':pd.Timestamp('20180703'),\n",
    "                  'C':pd.Series(1,index=list(range(4)),dtype='float32'),\n",
    "                  'D':np.array([3]*4,dtype='int32'),\n",
    "                  'E':pd.Categorical([\"test\",\"train\",\"test\",\"train\"]),\n",
    "                  'F':'foo'})\n",
    "print(df2)\n",
    "print(df2.dtypes)"
   ]
  },
  {
   "cell_type": "code",
   "execution_count": 19,
   "metadata": {},
   "outputs": [
    {
     "name": "stdout",
     "output_type": "stream",
     "text": [
      "                   d         o         g\n",
      "2018-07-03 -1.246092 -1.268503  1.095800\n",
      "2018-07-04 -0.842231  0.531090  0.906464\n",
      "                   d         o         g\n",
      "2018-07-08  0.177666 -0.358112  0.934674\n",
      "2018-07-09 -1.236918  1.435972  0.516952\n"
     ]
    }
   ],
   "source": [
    "print(df.head(2))\n",
    "print(df.tail(2))"
   ]
  },
  {
   "cell_type": "code",
   "execution_count": 22,
   "metadata": {},
   "outputs": [
    {
     "name": "stdout",
     "output_type": "stream",
     "text": [
      "DatetimeIndex(['2018-07-03', '2018-07-04', '2018-07-05', '2018-07-06',\n",
      "               '2018-07-07', '2018-07-08', '2018-07-09'],\n",
      "              dtype='datetime64[ns]', freq='D')\n",
      "Index(['d', 'o', 'g'], dtype='object')\n"
     ]
    }
   ],
   "source": [
    "print(df.index)\n",
    "print(df.columns)"
   ]
  },
  {
   "cell_type": "code",
   "execution_count": 26,
   "metadata": {},
   "outputs": [
    {
     "name": "stdout",
     "output_type": "stream",
     "text": [
      "                   d         o         g\n",
      "2018-07-04 -0.842231  0.531090  0.906464\n",
      "2018-07-05  0.185067 -0.938695 -0.213364\n",
      "2018-07-06 -0.412540  1.951485  0.937610\n",
      "2018-07-07  0.915378  0.144795  0.168038\n",
      "2018-07-08  0.177666 -0.358112  0.934674\n",
      "2018-07-09 -1.236918  1.435972  0.516952\n"
     ]
    }
   ],
   "source": [
    "print(df[1:])"
   ]
  },
  {
   "cell_type": "code",
   "execution_count": 30,
   "metadata": {},
   "outputs": [
    {
     "name": "stdout",
     "output_type": "stream",
     "text": [
      "                   d         o         g\n",
      "2018-07-04 -0.842231  0.531090  0.906464\n",
      "2018-07-06 -0.412540  1.951485  0.937610\n",
      "2018-07-07  0.915378  0.144795  0.168038\n",
      "2018-07-09 -1.236918  1.435972  0.516952\n"
     ]
    }
   ],
   "source": [
    "print(df[df.o>0])"
   ]
  },
  {
   "cell_type": "code",
   "execution_count": 34,
   "metadata": {},
   "outputs": [
    {
     "name": "stdout",
     "output_type": "stream",
     "text": [
      "                   d         o         g      E\n",
      "2018-07-03 -1.246092 -1.268503  1.095800    one\n",
      "2018-07-04 -0.842231  0.531090  0.906464    one\n",
      "2018-07-05  0.185067 -0.938695 -0.213364    two\n",
      "2018-07-06 -0.412540  1.951485  0.937610  three\n",
      "2018-07-07  0.915378  0.144795  0.168038  three\n",
      "2018-07-08  0.177666 -0.358112  0.934674   four\n",
      "2018-07-09 -1.236918  1.435972  0.516952  seven\n",
      "\n",
      "                   d         o         g     E\n",
      "2018-07-05  0.185067 -0.938695 -0.213364   two\n",
      "2018-07-08  0.177666 -0.358112  0.934674  four\n"
     ]
    }
   ],
   "source": [
    "df2=df.copy()\n",
    "df2['E']=['one','one','two','three','three','four','seven']\n",
    "print(df2)\n",
    "print()\n",
    "print(df2[df2['E'].isin(['two','four'])])"
   ]
  },
  {
   "cell_type": "markdown",
   "metadata": {},
   "source": [
    "* Series: 일련의 객체를 담을 수 있는 1차원 배열 같은 자료 구조, Numpy자료형을 담을 수 있다. 색인과 값을 저장하고, 배열로 부터 생성할 수 있다"
   ]
  },
  {
   "cell_type": "code",
   "execution_count": 9,
   "metadata": {},
   "outputs": [
    {
     "name": "stdout",
     "output_type": "stream",
     "text": [
      "0    4.0\n",
      "1    7.0\n",
      "2   -5.0\n",
      "3    3.0\n",
      "dtype: float64\n",
      "[ 4.  7. -5.  3.]\n",
      "RangeIndex(start=0, stop=4, step=1)\n",
      "a    1\n",
      "b    2\n",
      "c    3\n",
      "d    4\n",
      "dtype: int64\n"
     ]
    }
   ],
   "source": [
    "from pandas import Series, DataFrame\n",
    "import pandas as pd\n",
    "import numpy as np\n",
    "\n",
    "obj = Series([4.,7,-5,3])\n",
    "print(obj)\n",
    "print(obj.values)\n",
    "print(obj.index)\n",
    "\n",
    "obj2 = Series([1,2,3,4],index=['a','b','c','d'])\n",
    "print(obj2)"
   ]
  },
  {
   "cell_type": "code",
   "execution_count": 10,
   "metadata": {},
   "outputs": [
    {
     "name": "stdout",
     "output_type": "stream",
     "text": [
      "a     2.718282\n",
      "b     7.389056\n",
      "c    20.085537\n",
      "d    54.598150\n",
      "dtype: float64\n"
     ]
    }
   ],
   "source": [
    "print(np.exp(obj2))"
   ]
  },
  {
   "cell_type": "code",
   "execution_count": null,
   "metadata": {},
   "outputs": [],
   "source": []
  }
 ],
 "metadata": {
  "kernelspec": {
   "display_name": "Python 3",
   "language": "python",
   "name": "python3"
  },
  "language_info": {
   "codemirror_mode": {
    "name": "ipython",
    "version": 3
   },
   "file_extension": ".py",
   "mimetype": "text/x-python",
   "name": "python",
   "nbconvert_exporter": "python",
   "pygments_lexer": "ipython3",
   "version": "3.6.4"
  }
 },
 "nbformat": 4,
 "nbformat_minor": 2
}
