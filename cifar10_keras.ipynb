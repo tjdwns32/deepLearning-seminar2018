{
 "cells": [
  {
   "cell_type": "code",
   "execution_count": 1,
   "metadata": {},
   "outputs": [
    {
     "name": "stderr",
     "output_type": "stream",
     "text": [
      "Using TensorFlow backend.\n"
     ]
    }
   ],
   "source": [
    "# Keras import\n",
    "import keras\n",
    "from keras.datasets import cifar10\n",
    "from keras.models import Sequential\n",
    "from keras.layers import Dense, Dropout, Flatten, Activation\n",
    "\n",
    "# Sklearn import\n",
    "import sklearn\n",
    "from sklearn.model_selection import train_test_split"
   ]
  },
  {
   "cell_type": "code",
   "execution_count": 2,
   "metadata": {},
   "outputs": [
    {
     "name": "stdout",
     "output_type": "stream",
     "text": [
      "x_train shape: (50000, 32, 32, 3)\n",
      "y_train shape: (50000, 1)\n",
      "x_test shape: (10000, 32, 32, 3)\n",
      "y_test shape: (10000, 1)\n"
     ]
    }
   ],
   "source": [
    "(x_train,y_train),(x_test,y_test) = cifar10.load_data()\n",
    "num_classes  = 10\n",
    "print(\"x_train shape: {}\".format(x_train.shape))#(50000, 32, 32, 3): 32*32의 RGB(3)로 구성된 5만개의 이미지 \n",
    "print(\"y_train shape: {}\".format(y_train.shape))\n",
    "print(\"x_test shape: {}\".format(x_test.shape))\n",
    "print(\"y_test shape: {}\".format(y_test.shape))"
   ]
  },
  {
   "cell_type": "code",
   "execution_count": 3,
   "metadata": {},
   "outputs": [
    {
     "name": "stdout",
     "output_type": "stream",
     "text": [
      "[6]\n",
      "\n",
      "[[[ 59  62  63]\n",
      "  [ 43  46  45]\n",
      "  [ 50  48  43]\n",
      "  ..., \n",
      "  [158 132 108]\n",
      "  [152 125 102]\n",
      "  [148 124 103]]\n",
      "\n",
      " [[ 16  20  20]\n",
      "  [  0   0   0]\n",
      "  [ 18   8   0]\n",
      "  ..., \n",
      "  [123  88  55]\n",
      "  [119  83  50]\n",
      "  [122  87  57]]\n",
      "\n",
      " [[ 25  24  21]\n",
      "  [ 16   7   0]\n",
      "  [ 49  27   8]\n",
      "  ..., \n",
      "  [118  84  50]\n",
      "  [120  84  50]\n",
      "  [109  73  42]]\n",
      "\n",
      " ..., \n",
      " [[208 170  96]\n",
      "  [201 153  34]\n",
      "  [198 161  26]\n",
      "  ..., \n",
      "  [160 133  70]\n",
      "  [ 56  31   7]\n",
      "  [ 53  34  20]]\n",
      "\n",
      " [[180 139  96]\n",
      "  [173 123  42]\n",
      "  [186 144  30]\n",
      "  ..., \n",
      "  [184 148  94]\n",
      "  [ 97  62  34]\n",
      "  [ 83  53  34]]\n",
      "\n",
      " [[177 144 116]\n",
      "  [168 129  94]\n",
      "  [179 142  87]\n",
      "  ..., \n",
      "  [216 184 140]\n",
      "  [151 118  84]\n",
      "  [123  92  72]]]\n",
      "\n",
      "[[ 59  62  63]\n",
      " [ 43  46  45]\n",
      " [ 50  48  43]\n",
      " [ 68  54  42]\n",
      " [ 98  73  52]\n",
      " [119  91  63]\n",
      " [139 107  75]\n",
      " [145 110  80]\n",
      " [149 117  89]\n",
      " [149 120  93]\n",
      " [131 103  77]\n",
      " [125  99  76]\n",
      " [142 115  91]\n",
      " [144 112  86]\n",
      " [137 105  79]\n",
      " [129  97  71]\n",
      " [137 106  79]\n",
      " [134 106  76]\n",
      " [124  97  64]\n",
      " [139 113  78]\n",
      " [139 112  75]\n",
      " [133 105  69]\n",
      " [136 105  74]\n",
      " [139 108  77]\n",
      " [152 120  89]\n",
      " [163 131 100]\n",
      " [168 136 108]\n",
      " [159 129 102]\n",
      " [158 130 104]\n",
      " [158 132 108]\n",
      " [152 125 102]\n",
      " [148 124 103]]\n",
      "\n",
      "[59 62 63]\n",
      "\n",
      "59\n"
     ]
    }
   ],
   "source": [
    "print(y_train[0])\n",
    "print()\n",
    "print(x_train[0])\n",
    "print()\n",
    "print(x_train[0][0])\n",
    "print()\n",
    "print(x_train[0][0][0])\n",
    "print()\n",
    "print(x_train[0][0][0][0])"
   ]
  },
  {
   "cell_type": "code",
   "execution_count": 4,
   "metadata": {},
   "outputs": [
    {
     "name": "stdout",
     "output_type": "stream",
     "text": [
      "x_train shape: (50000, 3072)\n",
      "x_test shape: (10000, 3072)\n"
     ]
    }
   ],
   "source": [
    "x_train = x_train.reshape(50000, 3072)#shape변환\n",
    "x_test = x_test.reshape(10000, 3072)\n",
    "x_train = x_train.astype('float32')#형변환\n",
    "x_test = x_test.astype('float32')\n",
    "x_train /= 255#정규화\n",
    "x_test /= 255\n",
    "\n",
    "print(\"x_train shape: {}\".format(x_train.shape))\n",
    "print(\"x_test shape: {}\".format(x_test.shape))"
   ]
  },
  {
   "cell_type": "code",
   "execution_count": 5,
   "metadata": {},
   "outputs": [
    {
     "name": "stdout",
     "output_type": "stream",
     "text": [
      "y_train shape: (50000, 10)\n",
      "y_test shape: (10000, 10)\n",
      "[ 0.  0.  0.  0.  0.  0.  1.  0.  0.  0.]\n"
     ]
    }
   ],
   "source": [
    "y_train = keras.utils.to_categorical(y_train, num_classes)#원핫인코딩으로 전환\n",
    "y_test = keras.utils.to_categorical(y_test, num_classes)\n",
    "\n",
    "print(\"y_train shape: {}\".format(y_train.shape))\n",
    "print(\"y_test shape: {}\".format(y_test.shape))\n",
    "print(y_train[0])"
   ]
  },
  {
   "cell_type": "markdown",
   "metadata": {},
   "source": [
    "### Dense: 완전 연결 NN레이어\n",
    " - 기본parameter: output_dim, input_dim, input_shape, activation\n",
    " - 앞 레이어의 출력 개수(output_dim)가 다음 레이어의 입력 개수(input_dim)가 됨\n",
    " - 그 외: init(초기화 함수 이름), weights(가중치 초기값), W_regularizer(가중치 정규화), b_regularizer(bias정규화),bias(bias포함 여부)"
   ]
  },
  {
   "cell_type": "code",
   "execution_count": 6,
   "metadata": {},
   "outputs": [
    {
     "name": "stdout",
     "output_type": "stream",
     "text": [
      "_________________________________________________________________\n",
      "Layer (type)                 Output Shape              Param #   \n",
      "=================================================================\n",
      "dense_1 (Dense)              (None, 1536)              4720128   \n",
      "_________________________________________________________________\n",
      "dense_2 (Dense)              (None, 1024)              1573888   \n",
      "_________________________________________________________________\n",
      "dense_3 (Dense)              (None, 256)               262400    \n",
      "_________________________________________________________________\n",
      "dense_4 (Dense)              (None, 64)                16448     \n",
      "_________________________________________________________________\n",
      "dense_5 (Dense)              (None, 10)                650       \n",
      "=================================================================\n",
      "Total params: 6,573,514\n",
      "Trainable params: 6,573,514\n",
      "Non-trainable params: 0\n",
      "_________________________________________________________________\n"
     ]
    }
   ],
   "source": [
    "model = Sequential()#순차적인 layer구조\n",
    "model.add(Dense(1536, activation='relu', input_shape=(3072,)))#Dense(완전연결 레이어)추가, 첫 번째 레이어만 입력개수 지정\n",
    "model.add(Dense(1024, activation='relu'))\n",
    "model.add(Dense(256, activation='relu'))\n",
    "model.add(Dense(64, activation='relu'))\n",
    "model.add(Dense(num_classes, activation='softmax'))\n",
    "\n",
    "model.summary()\n",
    "model.compile(\n",
    "            loss=keras.losses.categorical_crossentropy,\n",
    "            optimizer='adam',\n",
    "            metrics=['accuracy']\n",
    ")"
   ]
  },
  {
   "cell_type": "code",
   "execution_count": 7,
   "metadata": {},
   "outputs": [
    {
     "name": "stdout",
     "output_type": "stream",
     "text": [
      "Epoch 1/30\n",
      "50000/50000 [==============================] - 15s 297us/step - loss: 2.6100 - acc: 0.1183\n",
      "Epoch 2/30\n",
      "50000/50000 [==============================] - 13s 252us/step - loss: 2.1115 - acc: 0.2137\n",
      "Epoch 3/30\n",
      "50000/50000 [==============================] - 13s 257us/step - loss: 1.9857 - acc: 0.2709\n",
      "Epoch 4/30\n",
      "50000/50000 [==============================] - 13s 254us/step - loss: 1.9009 - acc: 0.3143\n",
      "Epoch 5/30\n",
      "50000/50000 [==============================] - 13s 257us/step - loss: 1.8519 - acc: 0.3374\n",
      "Epoch 6/30\n",
      "50000/50000 [==============================] - 13s 255us/step - loss: 1.8061 - acc: 0.3524\n",
      "Epoch 7/30\n",
      "50000/50000 [==============================] - 13s 255us/step - loss: 1.7633 - acc: 0.3691\n",
      "Epoch 8/30\n",
      "50000/50000 [==============================] - 13s 255us/step - loss: 1.7249 - acc: 0.3835\n",
      "Epoch 9/30\n",
      "50000/50000 [==============================] - 13s 255us/step - loss: 1.6887 - acc: 0.3957\n",
      "Epoch 10/30\n",
      "50000/50000 [==============================] - 13s 255us/step - loss: 1.6584 - acc: 0.4099\n",
      "Epoch 11/30\n",
      "50000/50000 [==============================] - 13s 257us/step - loss: 1.6258 - acc: 0.4230\n",
      "Epoch 12/30\n",
      "50000/50000 [==============================] - 13s 266us/step - loss: 1.6063 - acc: 0.4283\n",
      "Epoch 13/30\n",
      "50000/50000 [==============================] - 15s 293us/step - loss: 1.5998 - acc: 0.4311\n",
      "Epoch 14/30\n",
      "50000/50000 [==============================] - 13s 259us/step - loss: 1.5514 - acc: 0.4492\n",
      "Epoch 15/30\n",
      "50000/50000 [==============================] - 13s 256us/step - loss: 1.5410 - acc: 0.4512\n",
      "Epoch 16/30\n",
      "50000/50000 [==============================] - 13s 257us/step - loss: 1.5191 - acc: 0.4621\n",
      "Epoch 17/30\n",
      "50000/50000 [==============================] - 13s 256us/step - loss: 1.5083 - acc: 0.4633\n",
      "Epoch 18/30\n",
      "50000/50000 [==============================] - 13s 256us/step - loss: 1.4881 - acc: 0.4721\n",
      "Epoch 19/30\n",
      "50000/50000 [==============================] - 13s 256us/step - loss: 1.4916 - acc: 0.4693\n",
      "Epoch 20/30\n",
      "50000/50000 [==============================] - 13s 256us/step - loss: 1.4546 - acc: 0.4842\n",
      "Epoch 21/30\n",
      "50000/50000 [==============================] - 13s 257us/step - loss: 1.4642 - acc: 0.4771\n",
      "Epoch 22/30\n",
      "50000/50000 [==============================] - 13s 257us/step - loss: 1.4350 - acc: 0.4902\n",
      "Epoch 23/30\n",
      "50000/50000 [==============================] - 13s 258us/step - loss: 1.4388 - acc: 0.4903\n",
      "Epoch 24/30\n",
      "50000/50000 [==============================] - 13s 257us/step - loss: 1.4003 - acc: 0.5015\n",
      "Epoch 25/30\n",
      "50000/50000 [==============================] - 13s 256us/step - loss: 1.3837 - acc: 0.5124\n",
      "Epoch 26/30\n",
      "50000/50000 [==============================] - 13s 256us/step - loss: 1.3819 - acc: 0.5054\n",
      "Epoch 27/30\n",
      "50000/50000 [==============================] - 13s 256us/step - loss: 1.3584 - acc: 0.5161\n",
      "Epoch 28/30\n",
      "50000/50000 [==============================] - 13s 257us/step - loss: 1.3589 - acc: 0.5173\n",
      "Epoch 29/30\n",
      "50000/50000 [==============================] - 13s 256us/step - loss: 1.3359 - acc: 0.5271\n",
      "Epoch 30/30\n",
      "50000/50000 [==============================] - 13s 256us/step - loss: 1.3364 - acc: 0.5264\n"
     ]
    },
    {
     "data": {
      "text/plain": [
       "<keras.callbacks.History at 0x2b94168eef0>"
      ]
     },
     "execution_count": 7,
     "metadata": {},
     "output_type": "execute_result"
    }
   ],
   "source": [
    "model.fit(\n",
    "    x_train, \n",
    "    y_train,\n",
    "    epochs=30,\n",
    "    batch_size=3072,\n",
    "    verbose=1\n",
    ")"
   ]
  },
  {
   "cell_type": "code",
   "execution_count": 8,
   "metadata": {},
   "outputs": [
    {
     "name": "stdout",
     "output_type": "stream",
     "text": [
      "Test loss: 1.38883708305\n",
      "Test accuracy: 50.080000000000005%\n"
     ]
    }
   ],
   "source": [
    "score = model.evaluate(x_test, y_test, verbose=0)\n",
    "print('Test loss:', score[0])\n",
    "print('Test accuracy: {}%'.format(score[1]*100))"
   ]
  },
  {
   "cell_type": "code",
   "execution_count": null,
   "metadata": {
    "collapsed": true
   },
   "outputs": [],
   "source": []
  }
 ],
 "metadata": {
  "kernelspec": {
   "display_name": "Python 3",
   "language": "python",
   "name": "python3"
  },
  "language_info": {
   "codemirror_mode": {
    "name": "ipython",
    "version": 3
   },
   "file_extension": ".py",
   "mimetype": "text/x-python",
   "name": "python",
   "nbconvert_exporter": "python",
   "pygments_lexer": "ipython3",
   "version": "3.6.3"
  }
 },
 "nbformat": 4,
 "nbformat_minor": 2
}
