{
 "cells": [
  {
   "cell_type": "code",
   "execution_count": 1,
   "metadata": {},
   "outputs": [
    {
     "name": "stdout",
     "output_type": "stream",
     "text": [
      "<class 'numpy.ndarray'>\n",
      "(3,)\n",
      "1 2 3\n",
      "[5 2 3]\n",
      "\n",
      "(2, 3)\n",
      "1 2 4\n"
     ]
    }
   ],
   "source": [
    "import numpy as np\n",
    "\n",
    "a=np.array([1,2,3])#인수는 list형식으로\n",
    "print(type(a))\n",
    "print(a.shape)\n",
    "print(a[0],a[1],a[2])\n",
    "a[0]=5\n",
    "print(a)\n",
    "print()\n",
    "b=np.array([[1,2,3],[4,5,6]])\n",
    "print(b.shape)\n",
    "print(b[0,0],b[0,1],b[1,0])"
   ]
  },
  {
   "cell_type": "code",
   "execution_count": 25,
   "metadata": {
    "scrolled": true
   },
   "outputs": [
    {
     "name": "stdout",
     "output_type": "stream",
     "text": [
      "[[0. 0.]\n",
      " [0. 0.]]\n",
      "<class 'numpy.float64'>\n",
      "\n",
      "[[1. 1.]]\n",
      "\n",
      "[[7.2 7.2]\n",
      " [7.2 7.2]]\n",
      "\n",
      "[[1. 0. 0.]\n",
      " [0. 1. 0.]\n",
      " [0. 0. 1.]]\n",
      "\n",
      "[[0. 9.]\n",
      " [8. 2.]]\n"
     ]
    }
   ],
   "source": [
    "import numpy as np\n",
    "\n",
    "a=np.zeros((2,2))#0으로 채워진 2*2 배열\n",
    "print(a)\n",
    "print()\n",
    "b=np.ones((1,2))#1로 채워진 1*2 배열\n",
    "#b=np.ones((2,))#결과가 조금 다름\n",
    "print(b)\n",
    "print()\n",
    "c=np.full((2,2),7.2)#인수는 튜플, 수\n",
    "print(c)\n",
    "print()\n",
    "d=np.eye(3)#2*2단위행렬(대각선이 1) 배열생성\n",
    "print(d)\n",
    "print()\n",
    "e=np.random.random((2,2))#난수로 채워진2*2\n",
    "e=e*10\n",
    "e=e//1\n",
    "print(e)\n"
   ]
  },
  {
   "cell_type": "code",
   "execution_count": 3,
   "metadata": {},
   "outputs": [
    {
     "name": "stdout",
     "output_type": "stream",
     "text": [
      "[[ 1  2  3  4]\n",
      " [ 5  6  7  8]\n",
      " [ 9 10 11 12]]\n",
      "\n",
      "<class 'numpy.ndarray'>\n",
      "\n",
      "2\n",
      "\n",
      "77\n",
      "\n",
      "[5 6 7 8] (4,)\n",
      "\n",
      "[[5 6 7 8]] (1, 4)\n",
      "\n",
      "[77  6 10] (3,)\n",
      "\n",
      "[[77]\n",
      " [ 6]\n",
      " [10]] (3, 1)\n"
     ]
    }
   ],
   "source": [
    "import numpy as np\n",
    "\n",
    "a=np.array([[1,2,3,4], [5,6,7,8], [9,10,11,12]])\n",
    "print(a)\n",
    "print()\n",
    "b=a[:2,1:3] #a배열 잘라서 2*2배열 생성\n",
    "print(type(b))\n",
    "print()\n",
    "print(a[0,1])\n",
    "b[0,0]=77 #a에도 적용됨\n",
    "print()\n",
    "print(a[0,1])\n",
    "print()\n",
    "r1=a[1,:] #1차원\n",
    "print(r1,r1.shape)\n",
    "print()\n",
    "r2=a[1:2,:] #2차원\n",
    "print(r2,r2.shape)\n",
    "print()\n",
    "c1=a[:,1] #1차원\n",
    "print(c1,c1.shape)\n",
    "print()\n",
    "c2=a[:,1:2] #2차원\n",
    "print(c2,c2.shape)"
   ]
  },
  {
   "cell_type": "code",
   "execution_count": 23,
   "metadata": {},
   "outputs": [
    {
     "name": "stdout",
     "output_type": "stream",
     "text": [
      "[[1 2]\n",
      " [3 4]\n",
      " [5 6]]\n",
      "[1 6 3]\n",
      "[1 6 3]\n",
      "[2 2]\n",
      "[2 2]\n"
     ]
    }
   ],
   "source": [
    "import numpy as np\n",
    "\n",
    "a=np.array([[1,2],[3,4],[5,6]])\n",
    "\n",
    "print(a[[0,2,1],[0,1,0]])#정수배열 인덱싱, 0,2,1 번째 배열의 0,1,0번째 원소\n",
    "print(np.array([a[0,0],a[2,1],a[1,0]]))#위와 같은 의미\n",
    "#print([a[0,0],a[2,1],a[1,0]])#결과는 같지만 자료형이 list\n",
    "print(a[[0,0],[1,1]])#일부만 인덱싱 가능\n",
    "print(np.array([a[0,1],a[0,1]]))"
   ]
  },
  {
   "cell_type": "code",
   "execution_count": 41,
   "metadata": {},
   "outputs": [
    {
     "name": "stdout",
     "output_type": "stream",
     "text": [
      "[[ 1  2  3]\n",
      " [ 4  5  6]\n",
      " [ 7  8  9]\n",
      " [10 11 12]]\n",
      "\n",
      "[ 1  6  7 11]\n",
      "\n",
      "[[11  2  3]\n",
      " [14  5  6]\n",
      " [17  8  9]\n",
      " [20 11 12]]\n"
     ]
    }
   ],
   "source": [
    "import numpy as np\n",
    "\n",
    "a=np.array([[1,2,3],[4,5,6],[7,8,9],[10,11,12]])\n",
    "print(a)\n",
    "print()\n",
    "b=np.array([0,2,0,1])\n",
    "print(a[np.arange(4),b])#b의 값들을 인덱스로 사용, arange함수\n",
    "#print(a[np.arange(4),[0,2,0,1]])#리스트도 인수로 줄 수 있음\n",
    "print()\n",
    "a[np.arange(4),0]+=10#배열이나 리스트가 아닌 인덱스를 주면 해당 인덱스에 모두 적용\n",
    "print(a)"
   ]
  },
  {
   "cell_type": "code",
   "execution_count": null,
   "metadata": {},
   "outputs": [],
   "source": []
  }
 ],
 "metadata": {
  "kernelspec": {
   "display_name": "Python 3",
   "language": "python",
   "name": "python3"
  },
  "language_info": {
   "codemirror_mode": {
    "name": "ipython",
    "version": 3
   },
   "file_extension": ".py",
   "mimetype": "text/x-python",
   "name": "python",
   "nbconvert_exporter": "python",
   "pygments_lexer": "ipython3",
   "version": "3.6.4"
  }
 },
 "nbformat": 4,
 "nbformat_minor": 2
}
